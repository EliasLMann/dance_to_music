{
 "cells": [
  {
   "cell_type": "code",
   "execution_count": 2,
   "metadata": {},
   "outputs": [],
   "source": [
    "from pytorch_lightning import Trainer\n",
    "from src.dataset import DEAMDataModule, preprocess_and_save\n",
    "from src.emotion_regressor import EmotionRegressor\n",
    "import pytorch_lightning as pl\n",
    "import torch\n",
    "import torch.multiprocessing as mp"
   ]
  },
  {
   "cell_type": "code",
   "execution_count": 4,
   "metadata": {},
   "outputs": [
    {
     "name": "stderr",
     "output_type": "stream",
     "text": [
      "Using cache found in /home/elias/.cache/torch/hub/harritaylor_torchvggish_master\n"
     ]
    }
   ],
   "source": [
    "#preprocess_and_save(audio_dir='data/trimmed_audio', valence_path='data/deam_labels/valence.csv', arousal_path='data/deam_labels/arousal.csv', output_dir='data/processed_data')"
   ]
  },
  {
   "cell_type": "code",
   "execution_count": 6,
   "metadata": {},
   "outputs": [
    {
     "name": "stderr",
     "output_type": "stream",
     "text": [
      "GPU available: True (cuda), used: True\n",
      "TPU available: False, using: 0 TPU cores\n",
      "IPU available: False, using: 0 IPUs\n",
      "HPU available: False, using: 0 HPUs\n",
      "LOCAL_RANK: 0 - CUDA_VISIBLE_DEVICES: [0,1]\n",
      "\n",
      "  | Name      | Type       | Params\n",
      "-----------------------------------------\n",
      "0 | lstm      | LSTM       | 82.9 K\n",
      "1 | relu      | ReLU       | 0     \n",
      "2 | fc_layers | Sequential | 2.4 K \n",
      "-----------------------------------------\n",
      "85.3 K    Trainable params\n",
      "0         Non-trainable params\n",
      "85.3 K    Total params\n",
      "0.341     Total estimated model params size (MB)\n"
     ]
    },
    {
     "name": "stdout",
     "output_type": "stream",
     "text": [
      "Sanity Checking: |          | 0/? [00:00<?, ?it/s]"
     ]
    },
    {
     "name": "stderr",
     "output_type": "stream",
     "text": [
      "/home/elias/anaconda3/envs/dtm/lib/python3.10/site-packages/pytorch_lightning/trainer/connectors/data_connector.py:436: Consider setting `persistent_workers=True` in 'val_dataloader' to speed up the dataloader worker initialization.\n"
     ]
    },
    {
     "name": "stdout",
     "output_type": "stream",
     "text": [
      "                                                                           \r"
     ]
    },
    {
     "name": "stderr",
     "output_type": "stream",
     "text": [
      "/home/elias/anaconda3/envs/dtm/lib/python3.10/site-packages/pytorch_lightning/trainer/connectors/data_connector.py:436: Consider setting `persistent_workers=True` in 'train_dataloader' to speed up the dataloader worker initialization.\n",
      "/home/elias/anaconda3/envs/dtm/lib/python3.10/site-packages/pytorch_lightning/loops/fit_loop.py:298: The number of training batches (45) is smaller than the logging interval Trainer(log_every_n_steps=50). Set a lower value for log_every_n_steps if you want to see logs for the training epoch.\n"
     ]
    },
    {
     "name": "stdout",
     "output_type": "stream",
     "text": [
      "Epoch 0: 100%|██████████| 45/45 [00:02<00:00, 18.41it/s, v_num=36, train_loss_step=0.126, train_valence_loss_step=0.0439, train_arousal_loss_step=0.082]  "
     ]
    },
    {
     "name": "stderr",
     "output_type": "stream",
     "text": [
      "[W CudaIPCTypes.cpp:16] Producer process has been terminated before all shared CUDA tensors released. See Note [Sharing CUDA tensors]\n",
      "[W CudaIPCTypes.cpp:16] Producer process has been terminated before all shared CUDA tensors released. See Note [Sharing CUDA tensors]\n",
      "[W CudaIPCTypes.cpp:16] Producer process has been terminated before all shared CUDA tensors released. See Note [Sharing CUDA tensors]\n",
      "[W CudaIPCTypes.cpp:16] Producer process has been terminated before all shared CUDA tensors released. See Note [Sharing CUDA tensors]\n"
     ]
    },
    {
     "name": "stdout",
     "output_type": "stream",
     "text": [
      "Epoch 9: 100%|██████████| 45/45 [00:04<00:00,  9.03it/s, v_num=36, train_loss_step=0.120, train_valence_loss_step=0.0405, train_arousal_loss_step=0.0797, val_loss_step=0.121, val_valence_loss_step=0.0473, val_arousal_loss_step=0.0739, val_valence_r2_step=-0.0261, val_arousal_r2_step=-0.0653, val_loss_epoch=0.142, val_valence_loss_epoch=0.0567, val_arousal_loss_epoch=0.0857, val_valence_r2_epoch=-0.0504, val_arousal_r2_epoch=-0.0398, train_loss_epoch=0.135, train_valence_loss_epoch=0.0551, train_arousal_loss_epoch=0.0801] "
     ]
    },
    {
     "name": "stderr",
     "output_type": "stream",
     "text": [
      "`Trainer.fit` stopped: `max_epochs=10` reached.\n"
     ]
    },
    {
     "name": "stdout",
     "output_type": "stream",
     "text": [
      "Epoch 9: 100%|██████████| 45/45 [00:04<00:00,  9.01it/s, v_num=36, train_loss_step=0.120, train_valence_loss_step=0.0405, train_arousal_loss_step=0.0797, val_loss_step=0.121, val_valence_loss_step=0.0473, val_arousal_loss_step=0.0739, val_valence_r2_step=-0.0261, val_arousal_r2_step=-0.0653, val_loss_epoch=0.142, val_valence_loss_epoch=0.0567, val_arousal_loss_epoch=0.0857, val_valence_r2_epoch=-0.0504, val_arousal_r2_epoch=-0.0398, train_loss_epoch=0.135, train_valence_loss_epoch=0.0551, train_arousal_loss_epoch=0.0801]\n"
     ]
    }
   ],
   "source": [
    "model = EmotionRegressor()\n",
    "mp.set_start_method('spawn', force=True)\n",
    "\n",
    "\n",
    "data_module = DEAMDataModule(\n",
    "    data_dir='data/processed_data',\n",
    "    batch_size=32,\n",
    "    num_workers=4\n",
    ")\n",
    "\n",
    "trainer = Trainer(\n",
    "    max_epochs=10,\n",
    "    devices=1,\n",
    "    accelerator=\"auto\",\n",
    "    logger=pl.loggers.TensorBoardLogger('training/logs', name='emotion_regressor'),\n",
    ")\n",
    "\n",
    "trainer.fit(model, data_module)"
   ]
  }
 ],
 "metadata": {
  "kernelspec": {
   "display_name": "dtm",
   "language": "python",
   "name": "python3"
  },
  "language_info": {
   "codemirror_mode": {
    "name": "ipython",
    "version": 3
   },
   "file_extension": ".py",
   "mimetype": "text/x-python",
   "name": "python",
   "nbconvert_exporter": "python",
   "pygments_lexer": "ipython3",
   "version": "3.10.14"
  }
 },
 "nbformat": 4,
 "nbformat_minor": 2
}
