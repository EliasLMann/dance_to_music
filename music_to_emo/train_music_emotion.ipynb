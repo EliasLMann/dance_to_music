{
 "cells": [
  {
   "cell_type": "code",
   "execution_count": 10,
   "metadata": {},
   "outputs": [],
   "source": [
    "from pytorch_lightning import Trainer\n",
    "from src.dataset import DEAMDataModule, preprocess_and_save\n",
    "from src.emotion_regressor import EmotionRegressor\n",
    "from src.multi_task_regressor import MultiTaskRegressor\n",
    "import pytorch_lightning as pl\n",
    "import torch"
   ]
  },
  {
   "cell_type": "code",
   "execution_count": 2,
   "metadata": {},
   "outputs": [],
   "source": [
    "#preprocess_and_save(audio_dir='data/trimmed_audio', valence_path='data/deam_labels/valence.csv', arousal_path='data/deam_labels/arousal.csv', output_dir='data/processed_data')"
   ]
  },
  {
   "cell_type": "code",
   "execution_count": 11,
   "metadata": {},
   "outputs": [
    {
     "name": "stderr",
     "output_type": "stream",
     "text": [
      "GPU available: True (cuda), used: True\n",
      "TPU available: False, using: 0 TPU cores\n",
      "IPU available: False, using: 0 IPUs\n",
      "HPU available: False, using: 0 HPUs\n",
      "LOCAL_RANK: 0 - CUDA_VISIBLE_DEVICES: [0,1]\n",
      "\n",
      "  | Name       | Type       | Params\n",
      "------------------------------------------\n",
      "0 | lstm       | LSTM       | 149 K \n",
      "1 | relu       | ReLU       | 0     \n",
      "2 | fc_valence | Sequential | 2.4 K \n",
      "3 | fc_arousal | Sequential | 2.4 K \n",
      "------------------------------------------\n",
      "154 K     Trainable params\n",
      "0         Non-trainable params\n",
      "154 K     Total params\n",
      "0.617     Total estimated model params size (MB)\n"
     ]
    },
    {
     "name": "stdout",
     "output_type": "stream",
     "text": [
      "                                                                            "
     ]
    },
    {
     "name": "stderr",
     "output_type": "stream",
     "text": [
      "/home/elias/anaconda3/envs/dtm/lib/python3.10/site-packages/pytorch_lightning/trainer/connectors/data_connector.py:441: The 'val_dataloader' does not have many workers which may be a bottleneck. Consider increasing the value of the `num_workers` argument` to `num_workers=11` in the `DataLoader` to improve performance.\n",
      "/home/elias/anaconda3/envs/dtm/lib/python3.10/site-packages/pytorch_lightning/trainer/connectors/data_connector.py:441: The 'train_dataloader' does not have many workers which may be a bottleneck. Consider increasing the value of the `num_workers` argument` to `num_workers=11` in the `DataLoader` to improve performance.\n",
      "/home/elias/anaconda3/envs/dtm/lib/python3.10/site-packages/pytorch_lightning/loops/fit_loop.py:298: The number of training batches (45) is smaller than the logging interval Trainer(log_every_n_steps=50). Set a lower value for log_every_n_steps if you want to see logs for the training epoch.\n"
     ]
    },
    {
     "name": "stdout",
     "output_type": "stream",
     "text": [
      "Epoch 99: 100%|██████████| 45/45 [00:01<00:00, 38.88it/s, v_num=2, train_loss_step=0.0949, train_valence_loss_step=0.0486, train_arousal_loss_step=0.0464, val_loss_step=0.0881, val_valence_loss_step=0.0308, val_arousal_loss_step=0.0573, val_valence_r2_step=0.527, val_arousal_r2_step=0.547, val_loss_epoch=0.0833, val_valence_loss_epoch=0.0388, val_arousal_loss_epoch=0.0445, val_valence_r2_epoch=0.201, val_arousal_r2_epoch=0.413, train_loss_epoch=0.0787, train_valence_loss_epoch=0.0396, train_arousal_loss_epoch=0.0391]  "
     ]
    },
    {
     "name": "stderr",
     "output_type": "stream",
     "text": [
      "`Trainer.fit` stopped: `max_epochs=100` reached.\n"
     ]
    },
    {
     "name": "stdout",
     "output_type": "stream",
     "text": [
      "Epoch 99: 100%|██████████| 45/45 [00:01<00:00, 38.56it/s, v_num=2, train_loss_step=0.0949, train_valence_loss_step=0.0486, train_arousal_loss_step=0.0464, val_loss_step=0.0881, val_valence_loss_step=0.0308, val_arousal_loss_step=0.0573, val_valence_r2_step=0.527, val_arousal_r2_step=0.547, val_loss_epoch=0.0833, val_valence_loss_epoch=0.0388, val_arousal_loss_epoch=0.0445, val_valence_r2_epoch=0.201, val_arousal_r2_epoch=0.413, train_loss_epoch=0.0787, train_valence_loss_epoch=0.0396, train_arousal_loss_epoch=0.0391]\n"
     ]
    }
   ],
   "source": [
    "model_1 = MultiTaskRegressor()\n",
    "\n",
    "\n",
    "data_module_1 = DEAMDataModule(\n",
    "    data_dir='data/processed_data',\n",
    "    batch_size=32,\n",
    "    num_workers=0\n",
    ")\n",
    "\n",
    "trainer_1 = Trainer(\n",
    "    max_epochs=100,\n",
    "    devices=1,\n",
    "    accelerator=\"auto\",\n",
    "    logger=pl.loggers.TensorBoardLogger('training/logs'),\n",
    ")\n",
    "\n",
    "trainer_1.fit(model_1, data_module_1)"
   ]
  },
  {
   "cell_type": "code",
   "execution_count": 2,
   "metadata": {},
   "outputs": [
    {
     "name": "stderr",
     "output_type": "stream",
     "text": [
      "GPU available: True (cuda), used: True\n",
      "TPU available: False, using: 0 TPU cores\n",
      "IPU available: False, using: 0 IPUs\n",
      "HPU available: False, using: 0 HPUs\n",
      "LOCAL_RANK: 0 - CUDA_VISIBLE_DEVICES: [0,1]\n",
      "\n",
      "  | Name      | Type       | Params\n",
      "-----------------------------------------\n",
      "0 | lstm      | LSTM       | 149 K \n",
      "1 | fc_layers | Sequential | 2.4 K \n",
      "-----------------------------------------\n",
      "151 K     Trainable params\n",
      "0         Non-trainable params\n",
      "151 K     Total params\n",
      "0.607     Total estimated model params size (MB)\n"
     ]
    },
    {
     "name": "stdout",
     "output_type": "stream",
     "text": [
      "Sanity Checking DataLoader 0:   0%|          | 0/2 [00:00<?, ?it/s]"
     ]
    },
    {
     "name": "stderr",
     "output_type": "stream",
     "text": [
      "/home/elias/anaconda3/envs/dtm/lib/python3.10/site-packages/pytorch_lightning/trainer/connectors/data_connector.py:441: The 'val_dataloader' does not have many workers which may be a bottleneck. Consider increasing the value of the `num_workers` argument` to `num_workers=11` in the `DataLoader` to improve performance.\n"
     ]
    },
    {
     "name": "stdout",
     "output_type": "stream",
     "text": [
      "                                                                           "
     ]
    },
    {
     "name": "stderr",
     "output_type": "stream",
     "text": [
      "/home/elias/anaconda3/envs/dtm/lib/python3.10/site-packages/pytorch_lightning/trainer/connectors/data_connector.py:441: The 'train_dataloader' does not have many workers which may be a bottleneck. Consider increasing the value of the `num_workers` argument` to `num_workers=11` in the `DataLoader` to improve performance.\n",
      "/home/elias/anaconda3/envs/dtm/lib/python3.10/site-packages/pytorch_lightning/loops/fit_loop.py:298: The number of training batches (45) is smaller than the logging interval Trainer(log_every_n_steps=50). Set a lower value for log_every_n_steps if you want to see logs for the training epoch.\n"
     ]
    },
    {
     "name": "stdout",
     "output_type": "stream",
     "text": [
      "Epoch 99: 100%|██████████| 45/45 [00:01<00:00, 40.59it/s, v_num=1, train_loss_step=0.0854, train_valence_loss_step=0.0398, train_arousal_loss_step=0.0455, val_loss_step=0.0744, val_valence_loss_step=0.0365, val_arousal_loss_step=0.0379, val_valence_r2_step=0.374, val_arousal_r2_step=0.558, val_loss_epoch=0.0763, val_valence_loss_epoch=0.0403, val_arousal_loss_epoch=0.036, val_valence_r2_epoch=0.265, val_arousal_r2_epoch=0.540, train_loss_epoch=0.0683, train_valence_loss_epoch=0.0355, train_arousal_loss_epoch=0.0327]     "
     ]
    },
    {
     "name": "stderr",
     "output_type": "stream",
     "text": [
      "`Trainer.fit` stopped: `max_epochs=100` reached.\n"
     ]
    },
    {
     "name": "stdout",
     "output_type": "stream",
     "text": [
      "Epoch 99: 100%|██████████| 45/45 [00:01<00:00, 40.28it/s, v_num=1, train_loss_step=0.0854, train_valence_loss_step=0.0398, train_arousal_loss_step=0.0455, val_loss_step=0.0744, val_valence_loss_step=0.0365, val_arousal_loss_step=0.0379, val_valence_r2_step=0.374, val_arousal_r2_step=0.558, val_loss_epoch=0.0763, val_valence_loss_epoch=0.0403, val_arousal_loss_epoch=0.036, val_valence_r2_epoch=0.265, val_arousal_r2_epoch=0.540, train_loss_epoch=0.0683, train_valence_loss_epoch=0.0355, train_arousal_loss_epoch=0.0327]\n"
     ]
    }
   ],
   "source": [
    "model_2 = EmotionRegressor()\n",
    "\n",
    "\n",
    "data_module_2 = DEAMDataModule(\n",
    "    data_dir='data/processed_data',\n",
    "    batch_size=32,\n",
    "    num_workers=0\n",
    ")\n",
    "\n",
    "trainer_2 = Trainer(\n",
    "    max_epochs=100,\n",
    "    devices=1,\n",
    "    accelerator=\"auto\",\n",
    "    logger=pl.loggers.TensorBoardLogger('training/logs'),\n",
    ")\n",
    "\n",
    "trainer_2.fit(model_2, data_module_2)"
   ]
  }
 ],
 "metadata": {
  "kernelspec": {
   "display_name": "dtm",
   "language": "python",
   "name": "python3"
  },
  "language_info": {
   "codemirror_mode": {
    "name": "ipython",
    "version": 3
   },
   "file_extension": ".py",
   "mimetype": "text/x-python",
   "name": "python",
   "nbconvert_exporter": "python",
   "pygments_lexer": "ipython3",
   "version": "3.10.14"
  }
 },
 "nbformat": 4,
 "nbformat_minor": 2
}
