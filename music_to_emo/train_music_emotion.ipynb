{
 "cells": [
  {
   "cell_type": "code",
   "execution_count": 1,
   "metadata": {},
   "outputs": [],
   "source": [
    "from pytorch_lightning import Trainer\n",
    "from src.dataset import DEAMDataModule, preprocess_and_save\n",
    "from src.emotion_regressor import EmotionRegressor\n",
    "from src.multi_task_regressor import MultiTaskRegressor\n",
    "import pytorch_lightning as pl\n",
    "import torch"
   ]
  },
  {
   "cell_type": "code",
   "execution_count": 2,
   "metadata": {},
   "outputs": [],
   "source": [
    "#preprocess_and_save(audio_dir='data/trimmed_audio', valence_path='data/deam_labels/valence.csv', arousal_path='data/deam_labels/arousal.csv', output_dir='data/processed_data')"
   ]
  },
  {
   "cell_type": "code",
   "execution_count": 3,
   "metadata": {},
   "outputs": [
    {
     "name": "stderr",
     "output_type": "stream",
     "text": [
      "GPU available: True (cuda), used: True\n",
      "TPU available: False, using: 0 TPU cores\n",
      "IPU available: False, using: 0 IPUs\n",
      "HPU available: False, using: 0 HPUs\n",
      "LOCAL_RANK: 0 - CUDA_VISIBLE_DEVICES: [0,1]\n",
      "\n",
      "  | Name      | Type       | Params\n",
      "-----------------------------------------\n",
      "0 | lstm      | LSTM       | 149 K \n",
      "1 | relu      | ReLU       | 0     \n",
      "2 | fc_layers | Sequential | 2.4 K \n",
      "-----------------------------------------\n",
      "151 K     Trainable params\n",
      "0         Non-trainable params\n",
      "151 K     Total params\n",
      "0.607     Total estimated model params size (MB)\n"
     ]
    },
    {
     "name": "stdout",
     "output_type": "stream",
     "text": [
      "Sanity Checking DataLoader 0:  50%|█████     | 1/2 [00:00<00:00, 17.73it/s]"
     ]
    },
    {
     "name": "stderr",
     "output_type": "stream",
     "text": [
      "/home/elias/anaconda3/envs/dtm/lib/python3.10/site-packages/pytorch_lightning/trainer/connectors/data_connector.py:441: The 'val_dataloader' does not have many workers which may be a bottleneck. Consider increasing the value of the `num_workers` argument` to `num_workers=11` in the `DataLoader` to improve performance.\n"
     ]
    },
    {
     "name": "stdout",
     "output_type": "stream",
     "text": [
      "                                                                           "
     ]
    },
    {
     "name": "stderr",
     "output_type": "stream",
     "text": [
      "/home/elias/anaconda3/envs/dtm/lib/python3.10/site-packages/pytorch_lightning/trainer/connectors/data_connector.py:441: The 'train_dataloader' does not have many workers which may be a bottleneck. Consider increasing the value of the `num_workers` argument` to `num_workers=11` in the `DataLoader` to improve performance.\n",
      "/home/elias/anaconda3/envs/dtm/lib/python3.10/site-packages/pytorch_lightning/loops/fit_loop.py:298: The number of training batches (45) is smaller than the logging interval Trainer(log_every_n_steps=50). Set a lower value for log_every_n_steps if you want to see logs for the training epoch.\n"
     ]
    },
    {
     "name": "stdout",
     "output_type": "stream",
     "text": [
      "Epoch 99: 100%|██████████| 45/45 [00:01<00:00, 39.68it/s, v_num=4, train_loss_step=0.118, train_valence_loss_step=0.0444, train_arousal_loss_step=0.0736, val_loss_step=0.139, val_valence_loss_step=0.069, val_arousal_loss_step=0.0704, val_valence_r2_step=-0.0196, val_arousal_r2_step=-0.0582, val_loss_epoch=0.140, val_valence_loss_epoch=0.0601, val_arousal_loss_epoch=0.0803, val_valence_r2_epoch=-0.0397, val_arousal_r2_epoch=-0.0429, train_loss_epoch=0.136, train_valence_loss_epoch=0.0542, train_arousal_loss_epoch=0.0814]  "
     ]
    },
    {
     "name": "stderr",
     "output_type": "stream",
     "text": [
      "`Trainer.fit` stopped: `max_epochs=100` reached.\n"
     ]
    },
    {
     "name": "stdout",
     "output_type": "stream",
     "text": [
      "Epoch 99: 100%|██████████| 45/45 [00:01<00:00, 39.38it/s, v_num=4, train_loss_step=0.118, train_valence_loss_step=0.0444, train_arousal_loss_step=0.0736, val_loss_step=0.139, val_valence_loss_step=0.069, val_arousal_loss_step=0.0704, val_valence_r2_step=-0.0196, val_arousal_r2_step=-0.0582, val_loss_epoch=0.140, val_valence_loss_epoch=0.0601, val_arousal_loss_epoch=0.0803, val_valence_r2_epoch=-0.0397, val_arousal_r2_epoch=-0.0429, train_loss_epoch=0.136, train_valence_loss_epoch=0.0542, train_arousal_loss_epoch=0.0814]\n"
     ]
    }
   ],
   "source": [
    "model = MultiTaskRegressor()\n",
    "\n",
    "\n",
    "data_module = DEAMDataModule(\n",
    "    data_dir='data/processed_data',\n",
    "    batch_size=32,\n",
    "    num_workers=0\n",
    ")\n",
    "\n",
    "trainer = Trainer(\n",
    "    max_epochs=100,\n",
    "    devices=1,\n",
    "    accelerator=\"auto\",\n",
    "    logger=pl.loggers.TensorBoardLogger('training/logs'),\n",
    ")\n",
    "\n",
    "trainer.fit(model, data_module)"
   ]
  },
  {
   "cell_type": "code",
   "execution_count": null,
   "metadata": {},
   "outputs": [],
   "source": []
  },
  {
   "cell_type": "code",
   "execution_count": null,
   "metadata": {},
   "outputs": [],
   "source": []
  }
 ],
 "metadata": {
  "kernelspec": {
   "display_name": "dtm",
   "language": "python",
   "name": "python3"
  },
  "language_info": {
   "codemirror_mode": {
    "name": "ipython",
    "version": 3
   },
   "file_extension": ".py",
   "mimetype": "text/x-python",
   "name": "python",
   "nbconvert_exporter": "python",
   "pygments_lexer": "ipython3",
   "version": "3.10.14"
  }
 },
 "nbformat": 4,
 "nbformat_minor": 2
}
